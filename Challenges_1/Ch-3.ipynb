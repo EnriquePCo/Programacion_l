{
 "cells": [
  {
   "cell_type": "markdown",
   "metadata": {},
   "source": [
    "# Desafío 3: Administrador de contactos\n",
    "Crea un programa que permita administrar una lista de contactos. Cada contacto deberá tener un nombre, un número de teléfono y una dirección de correo electrónico. El programa deberá ofrecer las siguientes funcionalidades:\n",
    "*    Agregar un contacto nuevo\n",
    "*    Ver la lista de contactos\n",
    "*    Buscar un contacto por nombre\n",
    "*    Eliminar un contacto por nombre\n",
    "\n",
    "\n",
    "Usa listas y tuplas para almacenar los contactos y un diccionario para almacenar la información de cada contacto. También deberás crear distintas funciones para cada una de las funcionalidades.\n",
    "\n"
   ]
  },
  {
   "cell_type": "code",
   "execution_count": 65,
   "metadata": {},
   "outputs": [],
   "source": [
    "#se crea el registro y numero\n",
    "d = []\n",
    "num_con = 0"
   ]
  },
  {
   "cell_type": "code",
   "execution_count": 70,
   "metadata": {},
   "outputs": [
    {
     "name": "stdout",
     "output_type": "stream",
     "text": [
      "Contacto numero 4 agregado, informacion: \n",
      "Ivan \n",
      "ivan@gmail.com \n",
      "833647384\n",
      "\n",
      "Lista de contactos:\n",
      "{'name': 'Enrique', 'mail': 'prado3000@gmail.com', 'num': 9231278070}\n",
      "{'name': 'Guts', 'mail': 'berserk@gmail.com', 'num': 1823741234}\n",
      "{'name': 'Jaaziel', 'mail': 'jjpc@gmail.com', 'num': 9123419872}\n",
      "{'name': 'Ivan', 'mail': 'ivan@gmail.com', 'num': 833647384}\n",
      "\n",
      "La persona que buscas es el contacto num: 1:\n",
      "Nombre: Enrique\n",
      "Mail: prado3000@gmail.com\n",
      "Número de teléfono: 9231278070\n"
     ]
    }
   ],
   "source": [
    "#programa para añadir contactos\n",
    "add_con = int(input('Quieres agregar un contacto? (Responde 0 para no o 1 para si):'))\n",
    "\n",
    "if add_con == 1:\n",
    "    d.append({})\n",
    "    name = str(input('Introduce tu nombre: '))\n",
    "    mail = str(input('Introduce tu mail: '))\n",
    "    num = int(input('Introduce tu numero de telefono: '))\n",
    "    d[num_con]['name'] = name\n",
    "    d[num_con]['mail'] = mail\n",
    "    d[num_con]['num'] = num\n",
    "    name_con = d[num_con]['name']\n",
    "    mail_con = d[num_con]['mail']\n",
    "    tel_con = d[num_con]['num']\n",
    "    print(f'Contacto numero {num_con + 1} agregado, informacion: \\n{name_con} \\n{mail_con} \\n{tel_con}\\n')\n",
    "    num_con += 1\n",
    "\n",
    "print('Lista de contactos:')\n",
    "for i in d:\n",
    "    print(i)\n",
    "\n",
    "#Encontrar contacto\n",
    "search = int(input('¿Quieres buscar un contacto? (Responde 0 para no o 1 para sí):'))\n",
    "if search == 1:\n",
    "    search_name = str(input('Escribe el nombre entero del contacto a buscar: '))\n",
    "    encontrado = False\n",
    "    for i, item in enumerate(d):\n",
    "        if search_name == item['name']:\n",
    "            print(f'\\nLa persona que buscas es el contacto num: {i + 1}:')\n",
    "            print(f'Nombre: {item[\"name\"]}')\n",
    "            print(f'Mail: {item[\"mail\"]}')\n",
    "            print(f'Número de teléfono: {item[\"num\"]}')\n",
    "            encontrado = True\n",
    "    if not encontrado:\n",
    "        print('El nombre no se encuentra en los contactos')\n",
    "\n",
    "# funcionalidad eliminar contacto\n",
    "elim = int(input('Quieres eliminar un contacto? (Responde 0 para no o 1 para si):'))\n",
    "if elim == 1:\n",
    "    elim_name = str(input('Escribe el nombre entero del contacto a eliminar: '))\n",
    "\n",
    "    contacto_para_eliminar = []\n",
    "    for i, item in enumerate(d):\n",
    "        if elim_name == item['name']:\n",
    "            contacto_para_eliminar.append(i)\n",
    "        else: print('El nombre no se encuentra en los contactos') \n",
    "    # Eliminar los elementos después de la iteración\n",
    "    for indice in contacto_para_eliminar:\n",
    "        del d[indice]"
   ]
  }
 ],
 "metadata": {
  "kernelspec": {
   "display_name": "programacion_1",
   "language": "python",
   "name": "python3"
  },
  "language_info": {
   "codemirror_mode": {
    "name": "ipython",
    "version": 3
   },
   "file_extension": ".py",
   "mimetype": "text/x-python",
   "name": "python",
   "nbconvert_exporter": "python",
   "pygments_lexer": "ipython3",
   "version": "3.8.17"
  },
  "orig_nbformat": 4
 },
 "nbformat": 4,
 "nbformat_minor": 2
}
