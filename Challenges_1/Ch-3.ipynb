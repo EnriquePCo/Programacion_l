{
 "cells": [
  {
   "cell_type": "markdown",
   "metadata": {},
   "source": [
    "# Desafío 3: Administrador de contactos\n",
    "Crea un programa que permita administrar una lista de contactos. Cada contacto deberá tener un nombre, un número de teléfono y una dirección de correo electrónico. El programa deberá ofrecer las siguientes funcionalidades:\n",
    "*    Agregar un contacto nuevo\n",
    "*    Ver la lista de contactos\n",
    "*    Buscar un contacto por nombre\n",
    "*    Eliminar un contacto por nombre\n",
    "\n",
    "\n",
    "Usa listas y tuplas para almacenar los contactos y un diccionario para almacenar la información de cada contacto. También deberás crear distintas funciones para cada una de las funcionalidades.\n",
    "\n"
   ]
  },
  {
   "cell_type": "code",
   "execution_count": 31,
   "metadata": {},
   "outputs": [],
   "source": [
    "#se crea el registro y numero\n",
    "d = []\n",
    "num_con = 0"
   ]
  },
  {
   "cell_type": "code",
   "execution_count": 57,
   "metadata": {},
   "outputs": [
    {
     "name": "stdout",
     "output_type": "stream",
     "text": [
      "Lista de contactos:\n",
      "{'name': 'Enrique Prados Coronado', 'mail': 'prados3000@gmail.com', 'num': 9231278070}\n",
      "{'name': 'Jaaziel  Josue Prados Coronado', 'mail': 'prados3000@gmail.com', 'num': 9231278070}\n",
      "{'name': 'Alan Mendez', 'mail': 'prados3000@gmail.com', 'num': 933647583}\n",
      "{'name': 'Oscar Silva', 'mail': 'brooks@gmail.com', 'num': 837463809}\n",
      "{'name': 'Jesus Prados', 'mail': 'jpc@gmail.com', 'num': 9236475839}\n",
      "{'name': 'Ivan Nuñez', 'mail': 'ivan@gmail.com', 'num': 833647583}\n",
      "{'name': 'Luz Maria', 'mail': 'luz@gmail.com', 'num': 9081273401}\n",
      "{}\n",
      "{'name': 'Malcom', 'mail': 'malcom@gmail.com', 'num': 29347592873}\n",
      "{'name': 'Guts', 'mail': 'berserk@gmail.com', 'num': 19283741098}\n"
     ]
    }
   ],
   "source": [
    "#programa para añadir contactos\n",
    "add_con = input('Quieres agregar un contacto? (Responde 0 para no o 1 para si):')\n",
    "\n",
    "if add_con == True:\n",
    "    d.append({})\n",
    "    name = str(input('Introduce tu nombre: '))\n",
    "    mail = str(input('Introduce tu mail: '))\n",
    "    num = int(input('Introduce tu numero de telefono: '))\n",
    "    d[num_con]['name'] = name\n",
    "    d[num_con]['mail'] = mail\n",
    "    d[num_con]['num'] = num\n",
    "    name_con = d[num_con]['name']\n",
    "    mail_con = d[num_con]['mail']\n",
    "    tel_con = d[num_con]['num']\n",
    "    print(f'Contacto numero {num_con + 1} agregado, informacion: \\n{name_con} \\n{mail_con} \\n{tel_con}\\n')\n",
    "    num_con += 1\n",
    "\n",
    "print('Lista de contactos:')\n",
    "for i in d:\n",
    "    print(i)\n",
    "\n",
    "# funcionalidad eliminar contacto\n",
    "elim = (input('Quieres agregar un contacto? (Responde 0 para no o 1 para si):'))\n",
    "if elim == True:\n",
    "    elim_name = str(input('Escribe el nombre entero del contacto a eliminar: '))\n",
    "\n",
    "    contacto_para_eliminar = []\n",
    "    for i, item in enumerate(d):\n",
    "        if elim_name == item['name']:\n",
    "            contacto_para_eliminar.append(i)\n",
    "        else: print('El nombre no se encuentra en los contactos') \n",
    "    # Eliminar los elementos después de la iteración\n",
    "    for indice in contacto_para_eliminar:\n",
    "        del d[indice]"
   ]
  },
  {
   "cell_type": "code",
   "execution_count": null,
   "metadata": {},
   "outputs": [],
   "source": [
    "    if elim_name in d[:]['name']:\n",
    "        for i in d:\n",
    "            if elim_name == d[i]['name']:\n",
    "                del d[i]"
   ]
  },
  {
   "cell_type": "code",
   "execution_count": 51,
   "metadata": {},
   "outputs": [
    {
     "name": "stdout",
     "output_type": "stream",
     "text": [
      "{'name': 'Enrique Prados Coronado', 'mail': 'prados3000@gmail.com', 'num': 9231278070}\n",
      "{'name': 'Jaaziel  Josue Prados Coronado', 'mail': 'prados3000@gmail.com', 'num': 9231278070}\n",
      "{'name': 'Alan Mendez', 'mail': 'prados3000@gmail.com', 'num': 933647583}\n",
      "{'name': 'Oscar Silva', 'mail': 'brooks@gmail.com', 'num': 837463809}\n",
      "{'name': 'Jesus Prados', 'mail': 'jpc@gmail.com', 'num': 9236475839}\n",
      "{'name': 'Ivan Nuñez', 'mail': 'ivan@gmail.com', 'num': 833647583}\n",
      "{'name': 'Luz Maria', 'mail': 'luz@gmail.com', 'num': 9081273401}\n"
     ]
    }
   ],
   "source": [
    "for i in d:\n",
    "    print(i)"
   ]
  },
  {
   "cell_type": "code",
   "execution_count": 47,
   "metadata": {},
   "outputs": [
    {
     "data": {
      "text/plain": [
       "'Enrique Prados Coronado'"
      ]
     },
     "execution_count": 47,
     "metadata": {},
     "output_type": "execute_result"
    }
   ],
   "source": [
    "d[0]['name']"
   ]
  },
  {
   "cell_type": "code",
   "execution_count": 28,
   "metadata": {},
   "outputs": [
    {
     "data": {
      "text/plain": [
       "'Enrique Prados'"
      ]
     },
     "execution_count": 28,
     "metadata": {},
     "output_type": "execute_result"
    }
   ],
   "source": [
    "d[num_con]['name']"
   ]
  },
  {
   "cell_type": "code",
   "execution_count": 20,
   "metadata": {},
   "outputs": [
    {
     "ename": "IndexError",
     "evalue": "list index out of range",
     "output_type": "error",
     "traceback": [
      "\u001b[1;31m---------------------------------------------------------------------------\u001b[0m",
      "\u001b[1;31mIndexError\u001b[0m                                Traceback (most recent call last)",
      "\u001b[1;32mc:\\Users\\Chante\\Desktop\\Papeles\\Academico\\UDG\\GOD\\1S\\Programacion-l\\Programacion_l\\Challenges_1\\Ch-3.ipynb Cell 3\u001b[0m line \u001b[0;36m1\n\u001b[1;32m----> <a href='vscode-notebook-cell:/c%3A/Users/Chante/Desktop/Papeles/Academico/UDG/GOD/1S/Programacion-l/Programacion_l/Challenges_1/Ch-3.ipynb#W3sZmlsZQ%3D%3D?line=0'>1</a>\u001b[0m add_contact(num_con)\n",
      "\u001b[1;32mc:\\Users\\Chante\\Desktop\\Papeles\\Academico\\UDG\\GOD\\1S\\Programacion-l\\Programacion_l\\Challenges_1\\Ch-3.ipynb Cell 3\u001b[0m line \u001b[0;36m1\n\u001b[0;32m     <a href='vscode-notebook-cell:/c%3A/Users/Chante/Desktop/Papeles/Academico/UDG/GOD/1S/Programacion-l/Programacion_l/Challenges_1/Ch-3.ipynb#W3sZmlsZQ%3D%3D?line=9'>10</a>\u001b[0m d[num_con][\u001b[39m'\u001b[39m\u001b[39mnum\u001b[39m\u001b[39m'\u001b[39m] \u001b[39m=\u001b[39m num\n\u001b[0;32m     <a href='vscode-notebook-cell:/c%3A/Users/Chante/Desktop/Papeles/Academico/UDG/GOD/1S/Programacion-l/Programacion_l/Challenges_1/Ch-3.ipynb#W3sZmlsZQ%3D%3D?line=10'>11</a>\u001b[0m num_con \u001b[39m+\u001b[39m\u001b[39m=\u001b[39m \u001b[39m1\u001b[39m\n\u001b[1;32m---> <a href='vscode-notebook-cell:/c%3A/Users/Chante/Desktop/Papeles/Academico/UDG/GOD/1S/Programacion-l/Programacion_l/Challenges_1/Ch-3.ipynb#W3sZmlsZQ%3D%3D?line=11'>12</a>\u001b[0m \u001b[39mreturn\u001b[39;00m \u001b[39mprint\u001b[39m(\u001b[39mf\u001b[39m\u001b[39m'\u001b[39m\u001b[39mContacto numero \u001b[39m\u001b[39m{\u001b[39;00mnum_con\u001b[39m \u001b[39m\u001b[39m+\u001b[39m\u001b[39m \u001b[39m\u001b[39m1\u001b[39m\u001b[39m}\u001b[39;00m\u001b[39m agregado, informacion: \u001b[39m\u001b[39m\\n\u001b[39;00m\u001b[39m{\u001b[39;00md[num_con]\u001b[39m}\u001b[39;00m\u001b[39m'\u001b[39m)\n",
      "\u001b[1;31mIndexError\u001b[0m: list index out of range"
     ]
    }
   ],
   "source": []
  },
  {
   "cell_type": "code",
   "execution_count": 9,
   "metadata": {},
   "outputs": [
    {
     "name": "stdout",
     "output_type": "stream",
     "text": [
      "{'name': 'Enrique', 'numero': 923127080, 'mail': 'prados3000'}\n"
     ]
    }
   ],
   "source": [
    "dic = [\n",
    "    {\n",
    "        'name': 'Enrique',\n",
    "        'numero': 923127080\n",
    "    }\n",
    "]\n",
    "dic[0]['mail'] = 'prados3000'\n",
    "print(dic[0])"
   ]
  }
 ],
 "metadata": {
  "kernelspec": {
   "display_name": "programacion_1",
   "language": "python",
   "name": "python3"
  },
  "language_info": {
   "codemirror_mode": {
    "name": "ipython",
    "version": 3
   },
   "file_extension": ".py",
   "mimetype": "text/x-python",
   "name": "python",
   "nbconvert_exporter": "python",
   "pygments_lexer": "ipython3",
   "version": "3.8.17"
  },
  "orig_nbformat": 4
 },
 "nbformat": 4,
 "nbformat_minor": 2
}
