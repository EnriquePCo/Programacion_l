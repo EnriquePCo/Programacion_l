{
 "cells": [
  {
   "cell_type": "markdown",
   "metadata": {},
   "source": [
    "# Desafío 5: Composición de Funciones\n",
    "Crea una función componer que tome una lista de funciones y retorne una nueva función que represente la composición de las funciones originales. La composición de funciones es una operación donde el resultado de una función se utiliza como el argumento de la siguiente.\n",
    "\n"
   ]
  },
  {
   "cell_type": "code",
   "execution_count": 1,
   "metadata": {},
   "outputs": [],
   "source": [
    "def duplicar(x):\n",
    "    return x * 2"
   ]
  },
  {
   "cell_type": "code",
   "execution_count": 2,
   "metadata": {},
   "outputs": [],
   "source": [
    "def sumar_cinco(x):\n",
    "    return x + 5"
   ]
  },
  {
   "cell_type": "code",
   "execution_count": 3,
   "metadata": {},
   "outputs": [],
   "source": [
    "def restar_uno(x):\n",
    "    return x - 1"
   ]
  },
  {
   "cell_type": "code",
   "execution_count": 7,
   "metadata": {},
   "outputs": [
    {
     "name": "stdout",
     "output_type": "stream",
     "text": [
      "10\n"
     ]
    }
   ],
   "source": [
    "def componer(funciones):\n",
    "    def composicion(*argumentos, **keys):\n",
    "        resultado = argumentos[0]\n",
    "        for funcion in funciones:\n",
    "            resultado = funcion(resultado)\n",
    "        return resultado\n",
    "    \n",
    "    return composicion\n",
    "\n",
    "funciones_a_componer = [duplicar, sumar_cinco, restar_uno]\n",
    "funcion_compuesta = componer(funciones_a_componer)\n",
    "resultado_final = funcion_compuesta(3)\n",
    "print(resultado_final)"
   ]
  }
 ],
 "metadata": {
  "kernelspec": {
   "display_name": "programacion_1",
   "language": "python",
   "name": "python3"
  },
  "language_info": {
   "codemirror_mode": {
    "name": "ipython",
    "version": 3
   },
   "file_extension": ".py",
   "mimetype": "text/x-python",
   "name": "python",
   "nbconvert_exporter": "python",
   "pygments_lexer": "ipython3",
   "version": "3.8.17"
  },
  "orig_nbformat": 4
 },
 "nbformat": 4,
 "nbformat_minor": 2
}
