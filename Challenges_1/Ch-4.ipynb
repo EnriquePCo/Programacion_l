{
 "cells": [
  {
   "cell_type": "markdown",
   "metadata": {},
   "source": [
    "# Desafío 4: Implementación de Funciones map, filter, y reduce Propias\n",
    "Crea tus propias versiones de las funciones **map, filter y reduce**. Estas funciones deben tomar como argumentos una función y una lista (y un valor inicial en el caso de reduce) y deben retornar un iterable (puedes retornar una lista).\n"
   ]
  },
  {
   "cell_type": "code",
   "execution_count": 4,
   "metadata": {},
   "outputs": [
    {
     "name": "stdout",
     "output_type": "stream",
     "text": [
      "*\n",
      "****\n",
      "*****\n",
      "***\n",
      "****\n",
      "*****\n",
      "*******\n"
     ]
    }
   ],
   "source": []
  }
 ],
 "metadata": {
  "kernelspec": {
   "display_name": "programacion_1",
   "language": "python",
   "name": "python3"
  },
  "language_info": {
   "codemirror_mode": {
    "name": "ipython",
    "version": 3
   },
   "file_extension": ".py",
   "mimetype": "text/x-python",
   "name": "python",
   "nbconvert_exporter": "python",
   "pygments_lexer": "ipython3",
   "version": "3.8.17"
  },
  "orig_nbformat": 4
 },
 "nbformat": 4,
 "nbformat_minor": 2
}
