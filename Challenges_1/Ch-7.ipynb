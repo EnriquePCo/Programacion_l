{
 "cells": [
  {
   "cell_type": "markdown",
   "metadata": {},
   "source": [
    "# Desafío 7: Copia de archivos con filtrado\n",
    "Crea un script que copie un archivo a otro, pero que excluya todas las líneas que contengan una palabra prohibida especificada por el usuario."
   ]
  },
  {
   "cell_type": "code",
   "execution_count": 4,
   "metadata": {},
   "outputs": [
    {
     "name": "stdout",
     "output_type": "stream",
     "text": [
      "*\n",
      "****\n",
      "*****\n",
      "***\n",
      "****\n",
      "*****\n",
      "*******\n"
     ]
    }
   ],
   "source": [
    "l = [1,4,5,3,4,5,7]\n",
    "for i in range(len(l)):\n",
    "    f = '*'*l[i]\n",
    "    print(f)\n"
   ]
  }
 ],
 "metadata": {
  "kernelspec": {
   "display_name": "programacion_1",
   "language": "python",
   "name": "python3"
  },
  "language_info": {
   "codemirror_mode": {
    "name": "ipython",
    "version": 3
   },
   "file_extension": ".py",
   "mimetype": "text/x-python",
   "name": "python",
   "nbconvert_exporter": "python",
   "pygments_lexer": "ipython3",
   "version": "3.8.17"
  },
  "orig_nbformat": 4
 },
 "nbformat": 4,
 "nbformat_minor": 2
}
