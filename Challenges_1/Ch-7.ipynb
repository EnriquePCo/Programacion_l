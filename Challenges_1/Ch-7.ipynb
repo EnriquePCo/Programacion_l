{
 "cells": [
  {
   "cell_type": "markdown",
   "metadata": {},
   "source": [
    "# Desafío 7: Copia de archivos con filtrado\n",
    "Crea un script que copie un archivo a otro, pero que excluya todas las líneas que contengan una palabra prohibida especificada por el usuario."
   ]
  },
  {
   "cell_type": "code",
   "execution_count": 4,
   "metadata": {},
   "outputs": [
    {
     "name": "stdout",
     "output_type": "stream",
     "text": [
      "*\n",
      "****\n",
      "*****\n",
      "***\n",
      "****\n",
      "*****\n",
      "*******\n"
     ]
    }
   ],
   "source": [
    "add_con = int(input(''))\n",
    "\n",
    "if add_con == 1:\n",
    "    d.append({})\n",
    "    name = str(input(''))\n",
    "    mail = str(input(''))\n",
    "    num = int(input())\n",
    "    d[num_con]['name'] = name\n",
    "    d[num_con]['mail'] = mail\n",
    "    d[num_con]['num'] = num\n",
    "    name_con = d[num_con]['name']\n",
    "    mail_con = d[num_con]['mail']\n",
    "    tel_con = d[num_con]['num']\n",
    "    print(f'{name_con} \\n{mail_con} \\n{tel_con}\\n')\n",
    "\n",
    "print('Lista de contactos:')\n",
    "for i in d:\n",
    "    print(i)\n",
    "\n",
    "search = int(input())\n",
    "if search == 1:\n",
    "    search_name = str(input('Escribe el nombre entero del contacto a buscar: '))\n",
    "    encontrado = False\n",
    "    for i, item in enumerate(d):\n",
    "        if search_name == item['name']:\n",
    "            print(f'\\nLa persona que buscas es el contacto num: {i + 1}:')\n",
    "            print(f'Nombre: {item[\"name\"]}')\n",
    "            print(f'Mail: {item[\"mail\"]}')\n",
    "            print(f'Número de teléfono: {item[\"num\"]}')\n",
    "            encontrado = True\n",
    "    if not encontrado:\n",
    "        print('El nombre no se encuentra en los contactos')\n",
    "\n",
    "elim = int(input('Quieres eliminar un contacto? (Responde 0 para no o 1 para si):'))\n",
    "if elim == 1:\n",
    "    elim_name = str(input('Escribe el nombre entero del contacto a eliminar: '))\n",
    "\n",
    "    contacto_para_eliminar = []\n",
    "    for i, item in enumerate(d):\n",
    "        if elim_name == item['name']:\n",
    "            contacto_para_eliminar.append(i)\n",
    "        else: print('El nombre no se encuentra en los contactos') \n",
    "    # Eliminar los elementos después de la iteración\n",
    "    for indice in contacto_para_eliminar:\n",
    "        del d[indice]"
   ]
  }
 ],
 "metadata": {
  "kernelspec": {
   "display_name": "programacion_1",
   "language": "python",
   "name": "python3"
  },
  "language_info": {
   "codemirror_mode": {
    "name": "ipython",
    "version": 3
   },
   "file_extension": ".py",
   "mimetype": "text/x-python",
   "name": "python",
   "nbconvert_exporter": "python",
   "pygments_lexer": "ipython3",
   "version": "3.8.17"
  },
  "orig_nbformat": 4
 },
 "nbformat": 4,
 "nbformat_minor": 2
}
