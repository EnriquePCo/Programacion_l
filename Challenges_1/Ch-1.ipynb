{
 "cells": [
  {
   "cell_type": "markdown",
   "metadata": {},
   "source": [
    "# Desafío 1: Palíndromos\n",
    "\n",
    "Un palíndromo es una palabra o frase que se lee igual de adelante hacia atrás que de atrás hacia adelante, ignorando los espacios, puntuación y capitalización. El desafío es crear un programa que tome una cadena ingresada por el usuario y determine si es un palíndromo."
   ]
  },
  {
   "cell_type": "code",
   "execution_count": 3,
   "metadata": {},
   "outputs": [],
   "source": [
    "import string"
   ]
  },
  {
   "cell_type": "code",
   "execution_count": 19,
   "metadata": {},
   "outputs": [],
   "source": [
    "p = list(string.punctuation)\n",
    "def is_palindrome(word):\n",
    "    \"\"\"\n",
    "    Devuelve si la palabra word es palíndroma.\n",
    "    Args:\n",
    "    word: Palabra\n",
    "    Returns:\n",
    "    isPalindrome: Booleano\n",
    "    \"\"\"\n",
    "    assert type(word) == str, \"word debe ser tipo string\"\n",
    "    puntuacion = string.punctuation\n",
    "    word = ''.join(caracter for caracter in word if caracter not in puntuacion)\n",
    "    word = word.lower()\n",
    "    word = word.replace(' ','')\n",
    "    word = word.replace('.','')\n",
    "    l = []\n",
    "    isPalindrome = True\n",
    "    for c in word:\n",
    "        l.append(c)\n",
    "    n = len(l)\n",
    "    for i in range(int(n / 2)):\n",
    "        if l[i] != l[n - (i + 1)]: isPalindrome = False\n",
    "    return isPalindrome"
   ]
  },
  {
   "cell_type": "code",
   "execution_count": 10,
   "metadata": {},
   "outputs": [
    {
     "data": {
      "text/plain": [
       "False"
      ]
     },
     "execution_count": 10,
     "metadata": {},
     "output_type": "execute_result"
    }
   ],
   "source": [
    "is_palindrome('Perrito')"
   ]
  },
  {
   "cell_type": "code",
   "execution_count": 20,
   "metadata": {},
   "outputs": [
    {
     "data": {
      "text/plain": [
       "True"
      ]
     },
     "execution_count": 20,
     "metadata": {},
     "output_type": "execute_result"
    }
   ],
   "source": [
    "is_palindrome('Anita lava la t!ina.')"
   ]
  }
 ],
 "metadata": {
  "kernelspec": {
   "display_name": "programacion_1",
   "language": "python",
   "name": "python3"
  },
  "language_info": {
   "codemirror_mode": {
    "name": "ipython",
    "version": 3
   },
   "file_extension": ".py",
   "mimetype": "text/x-python",
   "name": "python",
   "nbconvert_exporter": "python",
   "pygments_lexer": "ipython3",
   "version": "3.8.17"
  },
  "orig_nbformat": 4
 },
 "nbformat": 4,
 "nbformat_minor": 2
}
