{
 "cells": [
  {
   "cell_type": "markdown",
   "metadata": {},
   "source": [
    "# Desafío 9: Identificación y Corrección de un Error de Tipo\n",
    "En el siguiente script, se te da una función que toma una lista de strings y concatena todos los strings en una sola cadena. Sin embargo, si se le pasa una lista que contiene elementos no-string, fallará con un TypeError. Tu tarea es depurar el script y modificarlo para que funcione correctamente con listas que contienen diferentes tipos de elementos."
   ]
  },
  {
   "cell_type": "code",
   "execution_count": 8,
   "metadata": {},
   "outputs": [],
   "source": [
    "def lista_string (lista):\n",
    "    l = []\n",
    "    for elemento in lista:\n",
    "        c = str(elemento)\n",
    "        l.append(c)\n",
    "    s = \"\".join(l)\n",
    "    return print(s)"
   ]
  },
  {
   "cell_type": "code",
   "execution_count": 9,
   "metadata": {},
   "outputs": [
    {
     "name": "stdout",
     "output_type": "stream",
     "text": [
      "o4r25p\n"
     ]
    }
   ],
   "source": [
    "lista = ['o',4,'r',2,5,'p']\n",
    "lista_string(lista)"
   ]
  }
 ],
 "metadata": {
  "kernelspec": {
   "display_name": "programacion_1",
   "language": "python",
   "name": "python3"
  },
  "language_info": {
   "codemirror_mode": {
    "name": "ipython",
    "version": 3
   },
   "file_extension": ".py",
   "mimetype": "text/x-python",
   "name": "python",
   "nbconvert_exporter": "python",
   "pygments_lexer": "ipython3",
   "version": "3.8.17"
  },
  "orig_nbformat": 4
 },
 "nbformat": 4,
 "nbformat_minor": 2
}
