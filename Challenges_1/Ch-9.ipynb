{
 "cells": [
  {
   "cell_type": "markdown",
   "metadata": {},
   "source": [
    "# Desafío 9: Identificación y Corrección de un Error de Tipo\n",
    "En el siguiente script, se te da una función que toma una lista de strings y concatena todos los strings en una sola cadena. Sin embargo, si se le pasa una lista que contiene elementos no-string, fallará con un TypeError. Tu tarea es depurar el script y modificarlo para que funcione correctamente con listas que contienen diferentes tipos de elementos."
   ]
  },
  {
   "cell_type": "code",
   "execution_count": 3,
   "metadata": {},
   "outputs": [
    {
     "name": "stdout",
     "output_type": "stream",
     "text": [
      "TypeError: can only concatenate str (not \"int\") to str\n"
     ]
    }
   ],
   "source": [
    "def concatenate_list_of_strings(string_list):\n",
    "    concatenated_string = \"\"\n",
    "    for item in string_list:\n",
    "        concatenated_string += item \n",
    "    return concatenated_string\n",
    "\n",
    "mixed_list = [\"hello\", \"world\", 123, True, \"!\", 42.0]\n",
    "\n",
    "try:\n",
    "    result = concatenate_list_of_strings(mixed_list)\n",
    "    print(\"Concatenated Result:\", result)\n",
    "except TypeError as e:\n",
    "    print(\"TypeError:\", e)"
   ]
  },
  {
   "cell_type": "markdown",
   "metadata": {},
   "source": [
    "Script arreglado"
   ]
  },
  {
   "cell_type": "code",
   "execution_count": 1,
   "metadata": {},
   "outputs": [
    {
     "name": "stdout",
     "output_type": "stream",
     "text": [
      "Concatenated Result: helloworld!\n"
     ]
    }
   ],
   "source": [
    "def concatenate_list_of_strings(string_list):\n",
    "    concatenated_string = \"\"\n",
    "    for item in string_list:\n",
    "        if isinstance(item, str):\n",
    "            concatenated_string += item\n",
    "    return concatenated_string\n",
    "\n",
    "mixed_list = [\"hello\", \"world\", 123, True, \"!\", 42.0]\n",
    "\n",
    "result = concatenate_list_of_strings(mixed_list)\n",
    "print(\"Concatenated Result:\", result)\n"
   ]
  }
 ],
 "metadata": {
  "kernelspec": {
   "display_name": "programacion_1",
   "language": "python",
   "name": "python3"
  },
  "language_info": {
   "codemirror_mode": {
    "name": "ipython",
    "version": 3
   },
   "file_extension": ".py",
   "mimetype": "text/x-python",
   "name": "python",
   "nbconvert_exporter": "python",
   "pygments_lexer": "ipython3",
   "version": "3.8.17"
  },
  "orig_nbformat": 4
 },
 "nbformat": 4,
 "nbformat_minor": 2
}
