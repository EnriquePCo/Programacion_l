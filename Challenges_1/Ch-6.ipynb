{
 "cells": [
  {
   "cell_type": "markdown",
   "metadata": {},
   "source": [
    "# Desafío 6: Contador de Palabras\n",
    "Crea un script que lea un archivo de texto y cuente el número de ocurrencias de cada palabra en el archivo. Luego, deberá escribir estas estadísticas en un nuevo archivo."
   ]
  },
  {
   "cell_type": "markdown",
   "metadata": {},
   "source": [
    "### Contar ocurrencias de palabras"
   ]
  },
  {
   "cell_type": "code",
   "execution_count": 2,
   "metadata": {},
   "outputs": [],
   "source": [
    "def contar_palabras(txt_entrada):\n",
    "    frecuencia_palabras = {}\n",
    "    with open(txt_entrada, 'r') as file:\n",
    "        for line in file:\n",
    "            words = line.split()\n",
    "            for word in words:\n",
    "                word = word.strip('.,!?').lower()\n",
    "                if word in frecuencia_palabras:\n",
    "                    frecuencia_palabras[word] += 1\n",
    "                else:\n",
    "                    frecuencia_palabras[word] = 1\n",
    "    return frecuencia_palabras\n"
   ]
  },
  {
   "cell_type": "markdown",
   "metadata": {},
   "source": [
    "### Escribir estadisticas en archivo"
   ]
  },
  {
   "cell_type": "code",
   "execution_count": 3,
   "metadata": {},
   "outputs": [],
   "source": [
    "def escribir_estadisticas(output_file, word_count):\n",
    "    with open(output_file, 'w') as file:\n",
    "        for word, count in word_count.items():\n",
    "            file.write(f'{word}: {count}\\n')"
   ]
  },
  {
   "cell_type": "code",
   "execution_count": 8,
   "metadata": {},
   "outputs": [
    {
     "name": "stdout",
     "output_type": "stream",
     "text": [
      "Estadísticas de palabras guardadas en estadisticas_palabras.txt\n"
     ]
    }
   ],
   "source": [
    "input_file = 'palabras_ch6.txt'\n",
    "output_file = 'estadisticas_palabras.txt'\n",
    "\n",
    "word_count = contar_palabras(input_file)\n",
    "\n",
    "escribir_estadisticas(output_file, word_count)\n",
    "\n",
    "print(f'Estadísticas de palabras guardadas en {output_file}')"
   ]
  }
 ],
 "metadata": {
  "kernelspec": {
   "display_name": "programacion_1",
   "language": "python",
   "name": "python3"
  },
  "language_info": {
   "codemirror_mode": {
    "name": "ipython",
    "version": 3
   },
   "file_extension": ".py",
   "mimetype": "text/x-python",
   "name": "python",
   "nbconvert_exporter": "python",
   "pygments_lexer": "ipython3",
   "version": "3.8.17"
  },
  "orig_nbformat": 4
 },
 "nbformat": 4,
 "nbformat_minor": 2
}
