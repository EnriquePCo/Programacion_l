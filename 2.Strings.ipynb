{
 "cells": [
  {
   "cell_type": "markdown",
   "metadata": {},
   "source": [
    "# Cadenas o Strings"
   ]
  },
  {
   "cell_type": "code",
   "execution_count": 2,
   "metadata": {},
   "outputs": [],
   "source": [
    "cadena1 = \"Hola mundo\"\n",
    "cadena2 = 'python es genial'\n",
    "cadena3 = '''\n",
    "este es un ejemplo\n",
    "de un string que\n",
    "abarca varias lineas\n",
    "'''"
   ]
  },
  {
   "cell_type": "code",
   "execution_count": 6,
   "metadata": {},
   "outputs": [
    {
     "name": "stdout",
     "output_type": "stream",
     "text": [
      "Hola mundo\n",
      "python es genial\n",
      "\n",
      "este es un ejemplo\n",
      "de un string que\n",
      "abarca varias lineas\n",
      "\n"
     ]
    }
   ],
   "source": [
    "print(f'{cadena1}\\n{cadena2}\\n{cadena3}')"
   ]
  },
  {
   "cell_type": "code",
   "execution_count": 8,
   "metadata": {},
   "outputs": [
    {
     "name": "stdout",
     "output_type": "stream",
     "text": [
      "Hola, mundo\n",
      "H\n",
      "Saludos\n",
      "['mundo']\n",
      "4\n"
     ]
    }
   ],
   "source": [
    "cadena1 = \"Hola\"\n",
    "cadena2 = \"mundo\"\n",
    "\n",
    "# Concatenación de cadenas\n",
    "concatenada = cadena1 + \", \" + cadena2  # Resultado: \"Hola, mundo\"\n",
    "print(concatenada)\n",
    "\n",
    "# Acceso a caracteres individuales (indexación)\n",
    "primer_caracter = cadena1[0]  # Resultado: \"H\"\n",
    "print(primer_caracter)\n",
    "\n",
    "\n",
    "# Reemplazar una subcadena\n",
    "nueva_cadena = cadena1.replace(\"Hola\", \"Saludos\")  # Resultado: \"Saludos\"\n",
    "print(nueva_cadena)\n",
    "\n",
    "# Dividir una cadena en palabras\n",
    "palabras = cadena2.split()  # Resultado: [\"mundo\"]\n",
    "print(palabras)\n",
    "\n",
    "# Obtener la longitud de una cadena\n",
    "longitud = len(cadena1)  # Resultado: 4\n",
    "print(longitud)\n"
   ]
  },
  {
   "cell_type": "markdown",
   "metadata": {},
   "source": [
    "## Ejercicio 1\n",
    "\n",
    "Escribir un programa que pregunte el nombre del usuario en la consola y un número entero e imprima por pantalla en líneas distintas el nombre del usuario tantas veces como el número introducido."
   ]
  },
  {
   "cell_type": "code",
   "execution_count": 13,
   "metadata": {},
   "outputs": [
    {
     "name": "stdout",
     "output_type": "stream",
     "text": [
      "Enrique\n",
      "Enrique\n",
      "Enrique\n",
      "\n"
     ]
    }
   ],
   "source": [
    "name = str(input(\"Introduzca su nombre\"))\n",
    "number = int(input('Indtroduce un num entero'))\n",
    "\n",
    "print((name + '\\n')*number)\n"
   ]
  },
  {
   "cell_type": "markdown",
   "metadata": {},
   "source": [
    "## Ejercicio 2\n",
    "\n",
    "Escribir un programa que pregunte el nombre completo del usuario en la consola y después muestre por pantalla el nombre completo del usuario tres veces, una con todas las letras minúsculas, otra con todas las letras mayúsculas y otra solo con la primera letra del nombre y de los apellidos en mayúscula. El usuario puede introducir su nombre combinando mayúsculas y minúsculas como"
   ]
  },
  {
   "cell_type": "code",
   "execution_count": 19,
   "metadata": {},
   "outputs": [
    {
     "name": "stdout",
     "output_type": "stream",
     "text": [
      "ENRIQUE\n",
      "enrique\n",
      "Enrique\n"
     ]
    }
   ],
   "source": [
    "name = str(input(\"Introduzca su nombre\"))\n",
    "print(name.upper())\n",
    "print(name.lower())\n",
    "print(name.capitalize())\n"
   ]
  },
  {
   "cell_type": "code",
   "execution_count": 20,
   "metadata": {},
   "outputs": [
    {
     "data": {
      "text/plain": [
       "'i'"
      ]
     },
     "execution_count": 20,
     "metadata": {},
     "output_type": "execute_result"
    }
   ],
   "source": [
    "name = str(input(\"Introduzca su nombre\"))\n",
    "name[3]"
   ]
  },
  {
   "cell_type": "markdown",
   "metadata": {},
   "source": [
    "## Ejercicio 3\n",
    "Escribir un programa que pregunte el nombre del usuario en la consola y después de que el usuario lo introduzca muestre por pantalla `<NOMBRE> tiene <n> letras`, donde `<NOMBRE>` es el nombre de usuario en mayúsculas y `<n>` es el número de letras que tienen el nombre.\n"
   ]
  },
  {
   "cell_type": "code",
   "execution_count": 24,
   "metadata": {},
   "outputs": [
    {
     "name": "stdout",
     "output_type": "stream",
     "text": [
      "Enrique tiene 7 letras\n"
     ]
    }
   ],
   "source": [
    "name = str(input(\"Introduzca su nombre\"))\n",
    "print(f'{name} tiene {len(name)} letras')"
   ]
  },
  {
   "cell_type": "markdown",
   "metadata": {},
   "source": [
    "## Ejercicio 4\n",
    "\n",
    "Los teléfonos de una empresa tienen el siguiente formato `prefijo-número-extension` donde el prefijo es el código del país `+55`, y la extensión tiene dos dígitos (por ejemplo `+55-33482535-56`). Escribir un programa que pregunte por un número de teléfono con este formato en la consola y muestre por pantalla el número de teléfono sin el prefijo y la extensión."
   ]
  },
  {
   "cell_type": "code",
   "execution_count": 27,
   "metadata": {},
   "outputs": [
    {
     "name": "stdout",
     "output_type": "stream",
     "text": [
      "4847574\n"
     ]
    }
   ],
   "source": [
    "num_tel = input('Introduce tu numero telefonico con prefijo y estension')\n",
    "whatsapp = num_tel[2:9]\n",
    "print(whatsapp)"
   ]
  },
  {
   "cell_type": "markdown",
   "metadata": {},
   "source": [
    "## Ejercicio 5\n",
    "\n",
    "Escribir un programa que pida al usuario que introduzca una frase en la consola y muestre por pantalla la frase invertida."
   ]
  },
  {
   "cell_type": "code",
   "execution_count": 1,
   "metadata": {},
   "outputs": [
    {
     "name": "stdout",
     "output_type": "stream",
     "text": [
      "saugA\n"
     ]
    }
   ],
   "source": [
    "f = input(\"Introduce una frase para obtenerla invertida: \")\n",
    "print(f[::-1])"
   ]
  },
  {
   "cell_type": "markdown",
   "metadata": {},
   "source": [
    "## Ejercicio 6\n",
    "\n",
    "Escribir un programa que pida al usuario que introduzca una frase en la consola y una vocal en minúscula, y después muestre por pantalla la misma frase pero con la vocal introducida en mayúscula."
   ]
  },
  {
   "cell_type": "code",
   "execution_count": 3,
   "metadata": {},
   "outputs": [
    {
     "name": "stdout",
     "output_type": "stream",
     "text": [
      "ese Auto es un mercedes\n"
     ]
    }
   ],
   "source": [
    "frase = input('Introduce tu frase')\n",
    "v = input('Introduce una vocal')\n",
    "print(frase.replace(v,v.upper()))"
   ]
  },
  {
   "cell_type": "markdown",
   "metadata": {},
   "source": [
    "## Ejercicio 7\n",
    "\n",
    "Escribir un programa que pregunte el correo electrónico del usuario en la consola y muestre por pantalla otro correo electrónico con el mismo nombre (la parte delante de la arroba `@`) pero con dominio `cucea.ugd.mx`."
   ]
  },
  {
   "cell_type": "code",
   "execution_count": 2,
   "metadata": {},
   "outputs": [
    {
     "name": "stdout",
     "output_type": "stream",
     "text": [
      "Tu correo insticional sería: prados3000@cucea.ugd.mx\n"
     ]
    }
   ],
   "source": [
    "mail = str(input('Introduce tu correo electronico personal: '))\n",
    "print('Tu correo insticional sería:',mail[:mail.find('@')] + '@cucea.ugd.mx')"
   ]
  },
  {
   "cell_type": "markdown",
   "metadata": {},
   "source": [
    "## Ejercicio 8\n",
    "\n",
    "Escribir un programa que pregunte por consola el precio de un producto en pesos con dos decimales y muestre por pantalla el número de euros y el número de céntavos del precio introducido."
   ]
  },
  {
   "cell_type": "code",
   "execution_count": 16,
   "metadata": {},
   "outputs": [
    {
     "name": "stdout",
     "output_type": "stream",
     "text": [
      "Tu producto cuesta 1847 euros y 30 centavos.\n"
     ]
    }
   ],
   "source": [
    "price = float(input('Introduce el precio de tu producto:'))\n",
    "eur = price * 18.85\n",
    "euros = int(eur)\n",
    "centavos = int((eur - euros) * 100)\n",
    "print(f'Tu producto cuesta {euros} euros y {centavos} centavos.')"
   ]
  },
  {
   "cell_type": "markdown",
   "metadata": {},
   "source": [
    "## Ejercicio 9\n",
    "\n",
    "Escribir un programa que pregunte al usuario la fecha de su nacimiento en formato `dd/mm/aaaa` y muestra por pantalla, el día, el mes y el año."
   ]
  },
  {
   "cell_type": "code",
   "execution_count": 17,
   "metadata": {},
   "outputs": [
    {
     "name": "stdout",
     "output_type": "stream",
     "text": [
      "Naciste el dia 1, del mes 1, del año 2005.\n"
     ]
    }
   ],
   "source": [
    "birth_date = input('Introduce tu fecha de nacimiento: ')\n",
    "print(f'Naciste el dia {birth_date[:1]}, del mes {birth_date[3:4]}, del año {birth_date[6:]}.')"
   ]
  },
  {
   "cell_type": "markdown",
   "metadata": {},
   "source": [
    "## Ejercicio 10\n",
    "\n",
    "Escribir un programa que pregunte por consola por los productos de una cesta de la compra, separados por comas, y muestre por pantalla cada uno de los productos en una línea distinta."
   ]
  },
  {
   "cell_type": "code",
   "execution_count": 18,
   "metadata": {},
   "outputs": [
    {
     "name": "stdout",
     "output_type": "stream",
     "text": [
      "manzana\n",
      "per\n",
      "melon\n"
     ]
    }
   ],
   "source": [
    "bolsa = input('Introduce los productos de tu bolsa')\n",
    "print(bolsa.replace(',','\\n'))"
   ]
  }
 ],
 "metadata": {
  "kernelspec": {
   "display_name": "programacion_1",
   "language": "python",
   "name": "python3"
  },
  "language_info": {
   "codemirror_mode": {
    "name": "ipython",
    "version": 3
   },
   "file_extension": ".py",
   "mimetype": "text/x-python",
   "name": "python",
   "nbconvert_exporter": "python",
   "pygments_lexer": "ipython3",
   "version": "3.8.17"
  },
  "orig_nbformat": 4
 },
 "nbformat": 4,
 "nbformat_minor": 2
}
