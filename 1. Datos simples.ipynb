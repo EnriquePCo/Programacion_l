{
 "cells": [
  {
   "cell_type": "markdown",
   "metadata": {},
   "source": [
    "Constantes"
   ]
  },
  {
   "cell_type": "code",
   "execution_count": 5,
   "metadata": {},
   "outputs": [
    {
     "data": {
      "text/plain": [
       "5"
      ]
     },
     "execution_count": 5,
     "metadata": {},
     "output_type": "execute_result"
    }
   ],
   "source": [
    "2+3"
   ]
  },
  {
   "cell_type": "code",
   "execution_count": 6,
   "metadata": {},
   "outputs": [],
   "source": [
    "a = 3;"
   ]
  },
  {
   "cell_type": "code",
   "execution_count": 7,
   "metadata": {},
   "outputs": [],
   "source": [
    "b = 6"
   ]
  },
  {
   "cell_type": "code",
   "execution_count": 8,
   "metadata": {},
   "outputs": [
    {
     "data": {
      "text/plain": [
       "9"
      ]
     },
     "execution_count": 8,
     "metadata": {},
     "output_type": "execute_result"
    }
   ],
   "source": [
    "c=a+b\n",
    "c"
   ]
  },
  {
   "cell_type": "markdown",
   "metadata": {},
   "source": [
    "Multiplicacion de variables"
   ]
  },
  {
   "cell_type": "code",
   "execution_count": 9,
   "metadata": {},
   "outputs": [],
   "source": [
    "f = a*b"
   ]
  },
  {
   "cell_type": "markdown",
   "metadata": {},
   "source": [
    "Suma de dos variables"
   ]
  },
  {
   "cell_type": "code",
   "execution_count": 11,
   "metadata": {},
   "outputs": [
    {
     "name": "stdout",
     "output_type": "stream",
     "text": [
      "El resultado de la suma es 16.0\n"
     ]
    }
   ],
   "source": [
    "num1 = float(input('Introduce un numero: '))\n",
    "num2 = float(input('Introduce un numero: '))\n",
    "suma = num1 + num2\n",
    "print(f'El resultado de la suma es {suma}')"
   ]
  },
  {
   "cell_type": "markdown",
   "metadata": {},
   "source": [
    "Resta de dos variables"
   ]
  },
  {
   "cell_type": "code",
   "execution_count": 12,
   "metadata": {},
   "outputs": [
    {
     "name": "stdout",
     "output_type": "stream",
     "text": [
      "El resultado de la resta es 5.0\n"
     ]
    }
   ],
   "source": [
    "num1 = float(input('Introduce un numero: '))\n",
    "num2 = float(input('Introduce un numero: '))\n",
    "resta = num1 - num2\n",
    "print(f'El resultado de la resta es {resta}')"
   ]
  },
  {
   "cell_type": "markdown",
   "metadata": {},
   "source": [
    "Cuadrado"
   ]
  },
  {
   "cell_type": "code",
   "execution_count": 13,
   "metadata": {},
   "outputs": [
    {
     "name": "stdout",
     "output_type": "stream",
     "text": [
      "El area del cuadrado es 156.25\n"
     ]
    }
   ],
   "source": [
    "def area_cradrado (l):\n",
    "    area = l*l\n",
    "    return print(f'El area del cuadrado es {area}')\n",
    "\n",
    "l = float(input('Introduce un numero positivo: '))\n",
    "area_cradrado(l)"
   ]
  },
  {
   "cell_type": "markdown",
   "metadata": {},
   "source": [
    "Triangulo"
   ]
  },
  {
   "cell_type": "code",
   "execution_count": 14,
   "metadata": {},
   "outputs": [
    {
     "name": "stdout",
     "output_type": "stream",
     "text": [
      "El area del triangulo es 15.0\n"
     ]
    }
   ],
   "source": [
    "def area_triangulo(b,h):\n",
    "    area = (b*h)/2\n",
    "    return print(f'El area del triangulo es {area}')\n",
    "\n",
    "b = float(input('Introduce un numero positivo: '))\n",
    "h = float(input('Introduce un numero positivo: '))\n",
    "area_triangulo(b,h)"
   ]
  },
  {
   "cell_type": "markdown",
   "metadata": {},
   "source": [
    "Circulo"
   ]
  },
  {
   "cell_type": "code",
   "execution_count": 18,
   "metadata": {},
   "outputs": [
    {
     "name": "stdout",
     "output_type": "stream",
     "text": [
      "El area del ciruclo es 12.566370614359172\n"
     ]
    }
   ],
   "source": [
    "import math\n",
    "\n",
    "def area_circulo (r):\n",
    "    area = math.pi*(math.pow(r,2))\n",
    "    return print(f'El area del ciruclo es {area}')\n",
    "\n",
    "r = float(input('Introduce un numero positivo: '))\n",
    "area_circulo(r)"
   ]
  },
  {
   "cell_type": "markdown",
   "metadata": {},
   "source": [
    "Celsius a Kelvin y Alreves"
   ]
  },
  {
   "cell_type": "code",
   "execution_count": 26,
   "metadata": {},
   "outputs": [
    {
     "name": "stdout",
     "output_type": "stream",
     "text": [
      "78.0° Kelvin es igual a -195.15° Celsius.\n",
      "56.0° Celcius es igual a 329.15° Kelvin.\n"
     ]
    }
   ],
   "source": [
    "def celsius_a_kelvin(celsius):\n",
    "    kelvin = celsius + 273.15\n",
    "    return print(f'{celsius}° Celcius es igual a {round(kelvin,2)}° Kelvin.')\n",
    "\n",
    "def kelvin_a_celsius(kelvin):\n",
    "    celsius = kelvin - 273.15\n",
    "    return print(f'{kelvin}° Kelvin es igual a {round(celsius,2)}° Celsius.')\n",
    "\n",
    "c = float(input('Introduce una temperatura en Celcius: '))\n",
    "k = float(input('Introduce una temperatura en Kelvin: '))\n",
    "\n",
    "kelvin_a_celsius(k)\n",
    "celsius_a_kelvin(c)"
   ]
  }
 ],
 "metadata": {
  "kernelspec": {
   "display_name": "programacion_1",
   "language": "python",
   "name": "python3"
  },
  "language_info": {
   "codemirror_mode": {
    "name": "ipython",
    "version": 3
   },
   "file_extension": ".py",
   "mimetype": "text/x-python",
   "name": "python",
   "nbconvert_exporter": "python",
   "pygments_lexer": "ipython3",
   "version": "3.8.17"
  },
  "orig_nbformat": 4
 },
 "nbformat": 4,
 "nbformat_minor": 2
}
