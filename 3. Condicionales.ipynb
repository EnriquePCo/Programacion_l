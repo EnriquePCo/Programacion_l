{
 "cells": [
  {
   "cell_type": "markdown",
   "metadata": {},
   "source": [
    "# Condicionales\n",
    "\n",
    "Los condicionales en Python se utilizan para tomar decisiones basadas en condiciones específicas. Puedes usar las siguientes estructuras condicionales en Python:\n"
   ]
  },
  {
   "cell_type": "markdown",
   "metadata": {},
   "source": [
    "if condicion:\n",
    "    Código a ejecutar si la condición es verdadera"
   ]
  },
  {
   "cell_type": "markdown",
   "metadata": {},
   "source": [
    "## Ejercicio 1\n",
    "Escribir un programa que pregunte al usuario su edad y muestre por pantalla si es mayor de edad o no."
   ]
  },
  {
   "cell_type": "code",
   "execution_count": 1,
   "metadata": {},
   "outputs": [
    {
     "name": "stdout",
     "output_type": "stream",
     "text": [
      "Ya estas viejo\n"
     ]
    }
   ],
   "source": [
    "edad = int(input('Introduce tu edad'))\n",
    "\n",
    "if edad <= 18:\n",
    "    print('Eres menor de edad')\n",
    "elif edad >= 18:\n",
    "    print('Ya estas viejo')"
   ]
  },
  {
   "cell_type": "markdown",
   "metadata": {},
   "source": [
    "## Ejercicio 2\n",
    "Escribir un programa que almacene la cadena de caracteres `contraseña` en una variable, pregunte al usuario por la contraseña e imprima por pantalla si la contraseña introducida por el usuario coincide con la guardada en la variable sin tener en cuenta mayúsculas y minúsculas."
   ]
  },
  {
   "cell_type": "code",
   "execution_count": 3,
   "metadata": {},
   "outputs": [
    {
     "name": "stdout",
     "output_type": "stream",
     "text": [
      "La contra coincide.\n"
     ]
    }
   ],
   "source": [
    "key = 'contraseña'\n",
    "password = input('Contra: ')\n",
    "if key == password.lower():\n",
    "    print('La contra coincide.')\n",
    "else: print('Contra incorrecta.')"
   ]
  },
  {
   "cell_type": "markdown",
   "metadata": {},
   "source": [
    "## Ejercicio 3\n",
    "\n",
    "Escribir un programa que pida al usuario dos números y devuelva su división. Si el usuario no introduce números debe devolver un aviso de error y si el divisor es cero también."
   ]
  },
  {
   "cell_type": "code",
   "execution_count": 5,
   "metadata": {},
   "outputs": [
    {
     "name": "stdout",
     "output_type": "stream",
     "text": [
      "5.0\n"
     ]
    }
   ],
   "source": [
    "x = float(input('Introduce x'))\n",
    "y = float(input('Introduce y'))\n",
    "\n",
    "if x == 0 or y==0:\n",
    "    print('No puedes meter 0s.')\n",
    "else: print(float(x/y))"
   ]
  },
  {
   "cell_type": "markdown",
   "metadata": {},
   "source": [
    "## Ejercicio 4\n",
    "\n",
    "Escribir un programa que pida al usuario un número entero y muestre por pantalla si es par o impar."
   ]
  },
  {
   "cell_type": "code",
   "execution_count": 7,
   "metadata": {},
   "outputs": [
    {
     "name": "stdout",
     "output_type": "stream",
     "text": [
      "tu numero es impar\n"
     ]
    }
   ],
   "source": [
    "x = int(input('Introduce un num entero'))\n",
    "if x % 2 == 0:\n",
    "    print('tu numero es par')\n",
    "else: print('tu numero es impar')"
   ]
  },
  {
   "cell_type": "markdown",
   "metadata": {},
   "source": [
    "## Ejercicio 5\n",
    "Para tributar un determinado impuesto se debe ser mayor de 16 años y tener unos ingresos superiores a 1000 € mensuales.\n",
    "Escribir un programa que pregunte al usuario su edad y sus ingresos mensuales y muestre por pantalla si el usuario tiene que tributar o no."
   ]
  },
  {
   "cell_type": "code",
   "execution_count": 9,
   "metadata": {},
   "outputs": [
    {
     "name": "stdout",
     "output_type": "stream",
     "text": [
      "Te toca mocharte con el SAT.\n"
     ]
    }
   ],
   "source": [
    "edad = int(input('Introduce tu edad: '))\n",
    "lim = 1000\n",
    "ingreso = int(input('Introduce tu ingreso mensual: '))\n",
    "\n",
    "if edad >= 18 and ingreso >= lim:\n",
    "    print('Te toca mocharte con el SAT.')\n",
    "else: print('Te salvaste, toco evadir impuestos.')\n"
   ]
  },
  {
   "cell_type": "markdown",
   "metadata": {},
   "source": [
    "## Ejercicio 6\n",
    "Los alumnos de un curso se han dividido en dos grupos A y B de acuerdo al sexo y el nombre. El grupo A esta formado por las mujeres con un nombre anterior a la M y los hombres con un nombre posterior a la N y el grupo B por el resto. Escribir un programa que pregunte al usuario su nombre y sexo, y muestre por pantalla el grupo que le corresponde."
   ]
  },
  {
   "cell_type": "code",
   "execution_count": 9,
   "metadata": {},
   "outputs": [
    {
     "name": "stdout",
     "output_type": "stream",
     "text": [
      "Eres del grupo A.\n"
     ]
    }
   ],
   "source": [
    "name = input(\"Introduce tu nombre\")\n",
    "genre = input(\"Introduce tu genero, M o H: \")\n",
    "genre = genre.lower()\n",
    "c = name[0].lower()\n",
    "if genre == 'm':\n",
    "    if c < 'm':\n",
    "        print('Eres del grupo A.')\n",
    "elif genre == 'h':\n",
    "    if c > 'n':\n",
    "        print('Eres del grupo A.')\n",
    "else: print('Eres del grupo B')"
   ]
  },
  {
   "cell_type": "markdown",
   "metadata": {},
   "source": [
    "## Ejercicio 7\n",
    "\n",
    "\n",
    "Los tramos impositivos para la declaración de la renta en un determinado país son los siguientes:\n",
    "\n",
    "|         Renta          | Tipo impositivo |\n",
    "| :--------------------: | :-------------: |\n",
    "|    Menos de 10000€     |       5%        |\n",
    "| Entre 10000€ y 20000€  |       15%       |\n",
    "| Entre 20000€ y 35000€  |       20%       |\n",
    "| Entre 35000€ y 60000€  |       30%       |\n",
    "|     Más de 60000€      |       45%       |\n",
    "\n",
    "Escribir un programa que pregunte al usuario su renta anual y muestre por pantalla lo que tiene que pagar."
   ]
  },
  {
   "cell_type": "code",
   "execution_count": 13,
   "metadata": {},
   "outputs": [
    {
     "name": "stdout",
     "output_type": "stream",
     "text": [
      "Renta anual:  46000.0 \n",
      "Tipo impositivo porcentual:  30.0 %\n",
      "Total a pagar:  13800.0\n"
     ]
    }
   ],
   "source": [
    "renta = float(input('Introduce tu renta: '))\n",
    "if renta < 10000:\n",
    "    ti = .05\n",
    "elif renta > 10000 and renta < 20000:\n",
    "    ti = .15\n",
    "elif renta > 20000 and renta < 35000:\n",
    "    ti = .2\n",
    "elif renta > 35000 and renta < 60000:\n",
    "    ti = .3\n",
    "else: ti = .45\n",
    "\n",
    "print('Renta anual: ',renta,'\\nTipo impositivo porcentual: ', float(ti*100), '%\\nTotal a pagar: ',float(renta*ti))\n"
   ]
  },
  {
   "cell_type": "markdown",
   "metadata": {},
   "source": [
    "## Ejercicio 8\n",
    "\n",
    "En una determinada empresa, sus empleados son evaluados al final de cada año. Los puntos que pueden obtener en la evaluación comienzan en 0.0 y pueden ir aumentando, traduciéndose en mejores beneficios.\n",
    "Los puntos que pueden conseguir los empleados pueden ser 0.0, 0.4. o 0.6, pero no valores intermedios entre las cifras mencionadas.\n",
    "A continuación se muestra una tabla con los niveles correspondientes a cada puntuación.\n",
    "La cantidad de dinero conseguida en cada nivel es de 2.400€ multiplicada por la puntuación del nivel.\n",
    "\n",
    "|    Nivel    | Puntuación |\n",
    "| :---------: | :--------: |\n",
    "| Inaceptable |    0.0     |\n",
    "|  Aceptable  |    0.4     |\n",
    "|  Meritorio  |    0.6     |\n",
    "\n",
    "Escribir un programa que lea la puntuación del usuario e indique su nivel de rendimiento, así como la cantidad de dinero que recibirá el usuario."
   ]
  },
  {
   "cell_type": "code",
   "execution_count": 23,
   "metadata": {},
   "outputs": [
    {
     "name": "stdout",
     "output_type": "stream",
     "text": [
      "Tu desempeño anual en nuestra empresa ha sido meritorio por lo tanto tu bono sera de: 1440.0 euros\n"
     ]
    }
   ],
   "source": [
    "score = float(input('Introduce tu puntuacion: '))\n",
    "if score == 0.0 or score == 0.4 or score == 0.6:\n",
    "    bonus = 2400*score\n",
    "    if score == 0.0:\n",
    "        lvl = 'inaceptable'\n",
    "    elif score == 0.4:\n",
    "        lvl = 'aceptable'\n",
    "    elif score == 0.6:\n",
    "        lvl = 'meritorio'\n",
    "    print('Tu desempeño anual en nuestra empresa ha sido',lvl,'por lo tanto tu bono sera de:',bonus,'euros')\n",
    "else: print('Error: solo se aceptan puntuaciones de: 0.0, 0.4, 0.6')\n",
    "\n"
   ]
  },
  {
   "cell_type": "markdown",
   "metadata": {},
   "source": [
    "## Ejercicio 9\n",
    "\n",
    "Escribir un programa para una empresa que tiene salas de juegos para todas las edades y quiere calcular de forma automática el precio que debe cobrar a sus clientes por entrar.\n",
    "El programa debe preguntar al usuario la edad del cliente y mostrar el precio de la entrada.\n",
    "Si el cliente es menor de 4 años puede entrar gratis, si tiene entre 4 y 18 años debe pagar 5€ y si es mayor de 18 años, 10€.\n"
   ]
  },
  {
   "cell_type": "code",
   "execution_count": 25,
   "metadata": {},
   "outputs": [
    {
     "name": "stdout",
     "output_type": "stream",
     "text": [
      "Tu edad es de 15 años, por lo tanto tu costo de entrada es de 5 euros.\n"
     ]
    }
   ],
   "source": [
    "age = int(input('Introduce tu edad: '))\n",
    "\n",
    "if age < 4:\n",
    "    payment = 0\n",
    "if age >= 4 and age < 18:\n",
    "    payment = 5\n",
    "else: payment = 10\n",
    "\n",
    "print(f'Tu edad es de {age} años, por lo tanto tu costo de entrada es de {payment} euros.')\n"
   ]
  },
  {
   "cell_type": "markdown",
   "metadata": {},
   "source": [
    "## Ejercicio 10\n",
    "La pizzería Bella Napoli ofrece pizzas vegetarianas y no vegetarianas a sus clientes. Los ingredientes para cada tipo de pizza aparecen a continuación.\n",
    "\n",
    "Ingredientes vegetarianos: Pimiento y tofu.\n",
    "Ingredientes no vegetarianos: Peperoni, Jamón y Salmón.\n",
    "Escribir un programa que pregunte al usuario si quiere una pizza vegetariana o no, y en función de su respuesta le muestre un menú con los ingredientes disponibles para que elija. Solo se puede eligir un ingrediente además de la mozzarella y el tomate que están en todas la pizzas. Al final se debe mostrar por pantalla si la pizza elegida es vegetariana o no y todos los ingredientes que lleva."
   ]
  },
  {
   "cell_type": "code",
   "execution_count": 27,
   "metadata": {},
   "outputs": [
    {
     "name": "stdout",
     "output_type": "stream",
     "text": [
      "Bienvenido, nuestro menu consiste en pizzas vegetarianas y normales, ¿cual le apetece a usted el dia de hoy?\n",
      "Los ingredientes disponibles para las pizzas vegetarianas son: 'pepperoni', 'jamon' y 'salmon'\n",
      "Pizza normal con mozarrella, tomate y  salmon\n"
     ]
    }
   ],
   "source": [
    "print(\"Bienvenido, nuestro menu consiste en pizzas vegetarianas y normales, ¿cual le apetece a usted el dia de hoy?\")\n",
    "tipo = input(\"Introduce 'normal' o 'vegetariana':\")\n",
    "tipo = tipo.lower()\n",
    "if tipo == \"vegetariana\":\n",
    "    print(\"Los ingredientes disponibles para las pizzas vegetarianas son: 'pimiento' y 'tofu'\")\n",
    "    ingrediente = input(\"Introduce 'pimiento' o 'tofu': \")\n",
    "    ingrediente = ingrediente.lower()\n",
    "    print(\"Pizza vegetariana con mozzarella, tomate y \", ingrediente)\n",
    "else:\n",
    "    print(\"Los ingredientes disponibles para las pizzas vegetarianas son: 'pepperoni', 'jamon' y 'salmon'\")\n",
    "    ingrediente = input(\"Introduce 'pepperoni', 'jamon' o 'salmon': \")\n",
    "    ingrediente = ingrediente.lower()\n",
    "    print(\"Pizza normal con mozarrella, tomate y \", ingrediente)\n"
   ]
  }
 ],
 "metadata": {
  "kernelspec": {
   "display_name": "programacion_1",
   "language": "python",
   "name": "python3"
  },
  "language_info": {
   "codemirror_mode": {
    "name": "ipython",
    "version": 3
   },
   "file_extension": ".py",
   "mimetype": "text/x-python",
   "name": "python",
   "nbconvert_exporter": "python",
   "pygments_lexer": "ipython3",
   "version": "3.8.17"
  },
  "orig_nbformat": 4
 },
 "nbformat": 4,
 "nbformat_minor": 2
}
