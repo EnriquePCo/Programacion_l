{
 "cells": [
  {
   "cell_type": "markdown",
   "metadata": {},
   "source": [
    "# Condicionales\n",
    "\n",
    "Los condicionales en Python se utilizan para tomar decisiones basadas en condiciones específicas. Puedes usar las siguientes estructuras condicionales en Python:\n"
   ]
  },
  {
   "cell_type": "markdown",
   "metadata": {},
   "source": [
    "if condicion:\n",
    "    Código a ejecutar si la condición es verdadera"
   ]
  },
  {
   "cell_type": "markdown",
   "metadata": {},
   "source": [
    "## Ejercicio 1\n",
    "Escribir un programa que pregunte al usuario su edad y muestre por pantalla si es mayor de edad o no."
   ]
  },
  {
   "cell_type": "code",
   "execution_count": 1,
   "metadata": {},
   "outputs": [
    {
     "name": "stdout",
     "output_type": "stream",
     "text": [
      "Ya estas viejo\n"
     ]
    }
   ],
   "source": [
    "edad = int(input('Introduce tu edad'))\n",
    "\n",
    "if edad <= 18:\n",
    "    print('Eres menor de edad')\n",
    "elif edad >= 18:\n",
    "    print('Ya estas viejo')"
   ]
  },
  {
   "cell_type": "markdown",
   "metadata": {},
   "source": [
    "## Ejercicio 2\n",
    "Escribir un programa que almacene la cadena de caracteres `contraseña` en una variable, pregunte al usuario por la contraseña e imprima por pantalla si la contraseña introducida por el usuario coincide con la guardada en la variable sin tener en cuenta mayúsculas y minúsculas."
   ]
  },
  {
   "cell_type": "code",
   "execution_count": 3,
   "metadata": {},
   "outputs": [
    {
     "name": "stdout",
     "output_type": "stream",
     "text": [
      "La contra coincide.\n"
     ]
    }
   ],
   "source": [
    "key = 'contraseña'\n",
    "password = input('Contra: ')\n",
    "if key == password.lower():\n",
    "    print('La contra coincide.')\n",
    "else: print('Contra incorrecta.')"
   ]
  },
  {
   "cell_type": "markdown",
   "metadata": {},
   "source": [
    "## Ejercicio 3\n",
    "\n",
    "Escribir un programa que pida al usuario dos números y devuelva su división. Si el usuario no introduce números debe devolver un aviso de error y si el divisor es cero también."
   ]
  },
  {
   "cell_type": "code",
   "execution_count": 5,
   "metadata": {},
   "outputs": [
    {
     "name": "stdout",
     "output_type": "stream",
     "text": [
      "5.0\n"
     ]
    }
   ],
   "source": [
    "x = float(input('Introduce x'))\n",
    "y = float(input('Introduce y'))\n",
    "\n",
    "if x == 0 or y==0:\n",
    "    print('No puedes meter 0s.')\n",
    "else: print(float(x/y))"
   ]
  },
  {
   "cell_type": "markdown",
   "metadata": {},
   "source": [
    "## Ejercicio 4\n",
    "\n",
    "Escribir un programa que pida al usuario un número entero y muestre por pantalla si es par o impar."
   ]
  },
  {
   "cell_type": "code",
   "execution_count": 7,
   "metadata": {},
   "outputs": [
    {
     "name": "stdout",
     "output_type": "stream",
     "text": [
      "tu numero es impar\n"
     ]
    }
   ],
   "source": [
    "x = int(input('Introduce un num entero'))\n",
    "if x % 2 == 0:\n",
    "    print('tu numero es par')\n",
    "else: print('tu numero es impar')"
   ]
  },
  {
   "cell_type": "markdown",
   "metadata": {},
   "source": [
    "## Ejercicio 5\n",
    "Para tributar un determinado impuesto se debe ser mayor de 16 años y tener unos ingresos superiores a 1000 € mensuales.\n",
    "Escribir un programa que pregunte al usuario su edad y sus ingresos mensuales y muestre por pantalla si el usuario tiene que tributar o no."
   ]
  },
  {
   "cell_type": "code",
   "execution_count": 9,
   "metadata": {},
   "outputs": [
    {
     "name": "stdout",
     "output_type": "stream",
     "text": [
      "Te toca mocharte con el SAT.\n"
     ]
    }
   ],
   "source": [
    "edad = int(input('Introduce tu edad: '))\n",
    "lim = 1000\n",
    "ingreso = int(input('Introduce tu ingreso mensual: '))\n",
    "\n",
    "if edad >= 18 and ingreso >= lim:\n",
    "    print('Te toca mocharte con el SAT.')\n",
    "else: print('Te salvaste, toco evadir impuestos.')\n"
   ]
  },
  {
   "cell_type": "markdown",
   "metadata": {},
   "source": [
    "## Ejercicio 6\n"
   ]
  }
 ],
 "metadata": {
  "kernelspec": {
   "display_name": "programacion_1",
   "language": "python",
   "name": "python3"
  },
  "language_info": {
   "codemirror_mode": {
    "name": "ipython",
    "version": 3
   },
   "file_extension": ".py",
   "mimetype": "text/x-python",
   "name": "python",
   "nbconvert_exporter": "python",
   "pygments_lexer": "ipython3",
   "version": "3.8.17"
  },
  "orig_nbformat": 4
 },
 "nbformat": 4,
 "nbformat_minor": 2
}
